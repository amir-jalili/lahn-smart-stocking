{
 "cells": [
  {
   "cell_type": "code",
   "execution_count": 1,
   "id": "05d68274-4183-43aa-88b4-a90ed9fb4e65",
   "metadata": {},
   "outputs": [],
   "source": [
    "import pandas as pd, numpy as np, holidays, pathlib\n",
    "from sklearn.preprocessing import StandardScaler\n",
    "DATA_DIR = pathlib.Path(\"../data\")\n",
    "RAW = DATA_DIR / \"raw\" / \"sales_data.csv\"\n",
    "OUT = DATA_DIR / \"processed\" / \"sales_clean.parquet\"\n",
    "\n",
    "# ----------------- ingest & basic tidy -----------------\n",
    "df = (\n",
    "    pd.read_csv(RAW, parse_dates=[\"Date\"])\n",
    "      .drop_duplicates()\n",
    "      .sort_values(\"Date\")\n",
    "      .reset_index(drop=True)\n",
    ")\n",
    "\n",
    "# correct any obvious datatype inconsistencies (example)\n",
    "cat_cols = [\"Month\",\"Age_Group\",\"Customer_Gender\",\n",
    "            \"Country\",\"State\",\"Product_Category\",\"Sub_Category\",\"Product\"]\n",
    "df[cat_cols] = df[cat_cols].astype(\"category\")\n",
    "\n",
    "# ----------------- simple outlier cap (IQR) -------------\n",
    "num_cols = df.select_dtypes(\"number\").columns\n",
    "for c in num_cols:\n",
    "    q1, q3 = np.percentile(df[c], [25, 75])\n",
    "    iqr = q3 - q1\n",
    "    lo, hi = q1 - 1.5*iqr, q3 + 1.5*iqr\n",
    "    df[c] = np.clip(df[c], lo, hi)\n",
    "\n",
    "# ----------------- date-derived features ----------------\n",
    "df[\"dow\"]    = df[\"Date\"].dt.dayofweek          # 0=Mon\n",
    "df[\"week\"]   = df[\"Date\"].dt.isocalendar().week\n",
    "df[\"yearmo\"] = df[\"Date\"].dt.to_period(\"M\").astype(str)\n",
    "\n",
    "# holiday flag (US example – extend list later)\n",
    "us_holidays = holidays.country_holidays(\"US\")\n",
    "df[\"is_holiday_us\"] = df[\"Date\"].isin(us_holidays)\n",
    "\n",
    "# ----------------- save & register ----------------------\n",
    "df.to_parquet(OUT, index=False)\n"
   ]
  }
 ],
 "metadata": {
  "kernelspec": {
   "display_name": "Python 3 (ipykernel)",
   "language": "python",
   "name": "python3"
  },
  "language_info": {
   "codemirror_mode": {
    "name": "ipython",
    "version": 3
   },
   "file_extension": ".py",
   "mimetype": "text/x-python",
   "name": "python",
   "nbconvert_exporter": "python",
   "pygments_lexer": "ipython3",
   "version": "3.10.18"
  }
 },
 "nbformat": 4,
 "nbformat_minor": 5
}
